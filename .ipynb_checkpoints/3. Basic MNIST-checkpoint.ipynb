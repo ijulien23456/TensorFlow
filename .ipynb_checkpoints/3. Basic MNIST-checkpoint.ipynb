{
 "cells": [
  {
   "cell_type": "markdown",
   "metadata": {},
   "source": [
    "***Basic MNIST Example***\n",
    "\n",
    "https://www.tensorflow.org/get_started/mnist/beginners"
   ]
  },
  {
   "cell_type": "markdown",
   "metadata": {},
   "source": [
    "Read in the MNIST data:"
   ]
  },
  {
   "cell_type": "code",
   "execution_count": 1,
   "metadata": {},
   "outputs": [
    {
     "name": "stdout",
     "output_type": "stream",
     "text": [
      "Successfully downloaded train-images-idx3-ubyte.gz 9912422 bytes.\n",
      "Extracting MNIST_data/train-images-idx3-ubyte.gz\n",
      "Successfully downloaded train-labels-idx1-ubyte.gz 28881 bytes.\n",
      "Extracting MNIST_data/train-labels-idx1-ubyte.gz\n",
      "Successfully downloaded t10k-images-idx3-ubyte.gz 1648877 bytes.\n",
      "Extracting MNIST_data/t10k-images-idx3-ubyte.gz\n",
      "Successfully downloaded t10k-labels-idx1-ubyte.gz 4542 bytes.\n",
      "Extracting MNIST_data/t10k-labels-idx1-ubyte.gz\n"
     ]
    }
   ],
   "source": [
    "from tensorflow.examples.tutorials.mnist import input_data\n",
    "mnist = input_data.read_data_sets(\"MNIST_data/\", one_hot=True)"
   ]
  },
  {
   "cell_type": "code",
   "execution_count": 8,
   "metadata": {},
   "outputs": [
    {
     "name": "stdout",
     "output_type": "stream",
     "text": [
      "0.9019\n"
     ]
    }
   ],
   "source": [
    "import tensorflow as tf\n",
    "\n",
    "#####################\n",
    "# Define the graph: #\n",
    "#####################\n",
    "\n",
    "# We'll represent each 28-by-28 pixel image as a flattened length 784 vector (of pixel intensities).\n",
    "# Placeholder for input vector (2-D tensor, None means any length for first dimension):\n",
    "img_tensor = tf.placeholder(tf.float32, [None, 784])\n",
    "\n",
    "# Weights connect input vector to 10 output nodes, one for each class of digit (0-9):\n",
    "W = tf.Variable(tf.zeros([784, 10]))\n",
    "b = tf.Variable(tf.zeros([10]))\n",
    "\n",
    "# Softmax model:\n",
    "out_tensor = tf.nn.softmax(tf.matmul(img_tensor, W) + b)\n",
    "\n",
    "# Placeholder for correct output vectors:\n",
    "correct_output = tf.placeholder(tf.float32, [None, 10])\n",
    "\n",
    "# Cross-entropy loss:\n",
    "# (note: use tf.nn.softmax_cross_entropy_with_logits instead, more numerically stable)\n",
    "cross_entropy = tf.reduce_mean(-tf.reduce_sum(correct_output * tf.log(out_tensor), reduction_indices=[1]))\n",
    "\n",
    "# Training step (backprop):\n",
    "train_step = tf.train.GradientDescentOptimizer(0.05).minimize(cross_entropy)\n",
    "\n",
    "##############################\n",
    "# Run a tf session to train: #\n",
    "##############################\n",
    "\n",
    "sess = tf.InteractiveSession()\n",
    "\n",
    "tf.global_variables_initializer().run()\n",
    "for i in range(1000):\n",
    "    batch_input, batch_output = mnist.train.next_batch(100)\n",
    "    sess.run(train_step, feed_dict={img_tensor: batch_input, correct_output: batch_output})\n",
    "    \n",
    "###############################\n",
    "# Measure test data accuracy: #\n",
    "###############################\n",
    "\n",
    "# argmax() returns the argmax along a given dimension; equal() returns a tensor of True / False values:\n",
    "is_correct = tf.equal(tf.argmax(out_tensor, 1), tf.argmax(correct_output, 1))\n",
    "\n",
    "# Cast True / False to 1 / 0, and get the mean:\n",
    "accuracy = tf.reduce_mean(tf.cast(is_correct, tf.float32))\n",
    "\n",
    "print(sess.run(accuracy, feed_dict={img_tensor: mnist.test.images, correct_output: mnist.test.labels}))\n",
    "    "
   ]
  },
  {
   "cell_type": "code",
   "execution_count": null,
   "metadata": {
    "collapsed": true
   },
   "outputs": [],
   "source": []
  }
 ],
 "metadata": {
  "kernelspec": {
   "display_name": "Python 3",
   "language": "python",
   "name": "python3"
  },
  "language_info": {
   "codemirror_mode": {
    "name": "ipython",
    "version": 3
   },
   "file_extension": ".py",
   "mimetype": "text/x-python",
   "name": "python",
   "nbconvert_exporter": "python",
   "pygments_lexer": "ipython3",
   "version": "3.5.3"
  }
 },
 "nbformat": 4,
 "nbformat_minor": 2
}
